{
 "cells": [
  {
   "cell_type": "code",
   "execution_count": 16,
   "metadata": {},
   "outputs": [],
   "source": [
    "import math\n",
    "from scipy.optimize import fsolve, newton\n",
    "import numpy as np\n",
    "import random\n",
    "import sys, os\n",
    "\n",
    "sys.path.append(os.path.abspath(\"/Users/hpathak/expedia/deep/NPACS/arc\"))\n",
    "from utils import *\n",
    "from solvers import *"
   ]
  },
  {
   "cell_type": "markdown",
   "metadata": {},
   "source": [
    "## Objectives\n",
    "\n",
    "### 1. Observe and Detect bifurcation points \n",
    "\n",
    "\n",
    "#### How to detect Bifurcation points: \n",
    "\n",
    "- For a partial differentiable function\n",
    "- At the bifurcation, Implicit Function Theorem  may not hold. \n",
    "    At the very same point, Jacobian is not invertible. Hence there could be a problem of  vanishing gradient, as already seen in RNNs. \n",
    "- Determinant of the Jacobian matrix is zero. \n",
    "    - Your N+1 dimension space is not full rank or it is less than N+1, worst case could be “zero”\n",
    "    - This is also referred as singularities in the homotopy path. Because Jacobian is singular. \n",
    "- If we have a sign watcher for sign( det(J) ), then we can say whenever the sign is flipped function has gone through a bifurcation point, in its continuation scheme or homotopy path.\n",
    "- Intuitively, what is Bifurcation? : \n",
    "    - Change in state behavior, something happens, an abrupt qualitative change\n",
    "     - Bifurcation point is yet another fixed point \n",
    "- Typically a new solution develops at this point. In other words, a new solution bifurcates from the original solution path, given a small change in initial value -- LOCALLY. \n",
    "\n",
    "\n",
    "### 2. Pseudo Arclength Continuation \n",
    "\n",
    "\n",
    "\n",
    "Understanding it step by step: \n",
    "\n",
    "- Formulate the problem (cost funcition) as homotopy \n",
    "\\begin{align}  J(\\theta, , \\lambda) \\end{align}\n",
    "- Now I found 2 ways for arc-length method, \n",
    "    - Predictor : Secant step \n",
    "    - Corrector : Obejctive is to fall back to the curve in small number of steps,\n",
    "        - gradient Descet steps or ADAM steps  \n",
    "        - with N+1 dimensional Sphere constraint \n",
    "            \\begin{equation}|| \\Delta \\theta ||^{2} + |\\Delta \\lambda| = 1 \\end{equation}\n",
    "        - with Orthogonal constraint \n",
    "            \\begin{equation}  \\theta^{p}_{i+1} = \\theta_i + (secant\\_step) \\cdot Jacobian(\\theta_i)  \\end{equation} \n",
    "            \\begin{equation} \\Delta \\theta \\cdot Jacobian(\\theta_i)    = 0  \\end{equation} \n",
    "            \\begin{align} => (\\theta_{i+1} - \\theta^{p}_{i+1} ) \\cdot Jacobian(\\theta_i)    = 0  \\end{align}"
   ]
  },
  {
   "cell_type": "markdown",
   "metadata": {},
   "source": [
    "## GAS Variables Experiment\n"
   ]
  },
  {
   "cell_type": "code",
   "execution_count": 17,
   "metadata": {},
   "outputs": [
    {
     "name": "stderr",
     "output_type": "stream",
     "text": [
      "/Users/hpathak/anaconda3/lib/python3.7/site-packages/scipy/optimize/minpack.py:162: RuntimeWarning: The iteration is not making good progress, as measured by the \n",
      "  improvement from the last five Jacobian evaluations.\n",
      "  warnings.warn(msg, RuntimeWarning)\n",
      "/Users/hpathak/anaconda3/lib/python3.7/site-packages/scipy/optimize/minpack.py:162: RuntimeWarning: The iteration is not making good progress, as measured by the \n",
      "  improvement from the last ten iterations.\n",
      "  warnings.warn(msg, RuntimeWarning)\n"
     ]
    },
    {
     "data": {
      "text/plain": [
       "<matplotlib.collections.PathCollection at 0x101bfea390>"
      ]
     },
     "execution_count": 17,
     "metadata": {},
     "output_type": "execute_result"
    },
    {
     "data": {
      "image/png": "[encoded data removed]",
      "text/plain": [
       "<Figure size 432x288 with 1 Axes>"
      ]
     },
     "metadata": {
      "needs_background": "light"
     },
     "output_type": "display_data"
    }
   ],
   "source": [
    "l = get_l(minor=0, major=2, delta_l=0.02, rev=rev)\n",
    "solutions = np_solver(gas_h, v_0, l)\n",
    "plot_solutions(l,solutions)"
   ]
  },
  {
   "cell_type": "code",
   "execution_count": 3,
   "metadata": {},
   "outputs": [
    {
     "name": "stdout",
     "output_type": "stream",
     "text": [
      "[51]\n"
     ]
    }
   ],
   "source": [
    "points, signs, values = detect_bifurcation_static(solutions)\n",
    "print(points[0][1:])"
   ]
  },
  {
   "cell_type": "code",
   "execution_count": 32,
   "metadata": {},
   "outputs": [
    {
     "data": {
      "text/plain": [
       "<matplotlib.collections.PathCollection at 0x101dffb5c0>"
      ]
     },
     "execution_count": 32,
     "metadata": {},
     "output_type": "execute_result"
    },
    {
     "data": {
      "image/png": "[encoded data removed]",
      "text/plain": [
       "<Figure size 432x288 with 1 Axes>"
      ]
     },
     "metadata": {
      "needs_background": "light"
     },
     "output_type": "display_data"
    }
   ],
   "source": [
    "l = get_l(minor=0, major=2, delta_l=0.02, rev=rev)\n",
    "solutions = grad_solver(v_0, l,lr=6e-2)\n",
    "plot_solutions(l,solutions)"
   ]
  },
  {
   "cell_type": "code",
   "execution_count": 30,
   "metadata": {},
   "outputs": [
    {
     "name": "stdout",
     "output_type": "stream",
     "text": [
      "[11 16 20 24 25 50 54]\n"
     ]
    }
   ],
   "source": [
    "points, signs, values = detect_bifurcation_static(solutions)\n",
    "print(points[0][:])"
   ]
  },
  {
   "cell_type": "code",
   "execution_count": null,
   "metadata": {},
   "outputs": [],
   "source": []
  },
  {
   "cell_type": "code",
   "execution_count": 29,
   "metadata": {},
   "outputs": [
    {
     "name": "stdout",
     "output_type": "stream",
     "text": [
      "0 -533\n",
      "1 -472\n",
      "2 -376\n",
      "3 -272\n",
      "4 -183\n",
      "5 -115\n",
      "6 -69\n",
      "7 -39\n",
      "8 -20\n",
      "9 -9\n",
      "10 -1\n",
      "11 49\n",
      "12 40\n",
      "13 50\n",
      "14 12\n",
      "15 416\n",
      "16 -151\n",
      "17 -40\n",
      "18 -16\n",
      "19 -6\n",
      "20 1\n",
      "21 31\n",
      "22 4\n",
      "23 36\n",
      "24 0\n",
      "25 13\n",
      "26 14\n",
      "27 10\n",
      "28 13\n",
      "29 8\n",
      "30 12\n",
      "31 6\n",
      "32 9\n",
      "33 6\n",
      "34 7\n",
      "35 6\n",
      "36 6\n",
      "37 5\n",
      "38 5\n",
      "39 4\n",
      "40 4\n",
      "41 3\n",
      "42 3\n",
      "43 2\n",
      "44 2\n",
      "45 2\n",
      "46 1\n",
      "47 1\n",
      "48 1\n",
      "49 1\n",
      "50 0\n",
      "51 0\n",
      "52 0\n",
      "53 0\n",
      "54 -1\n",
      "55 -1\n",
      "56 -1\n",
      "57 -1\n",
      "58 -2\n",
      "59 -2\n",
      "60 -2\n",
      "61 -2\n",
      "62 -2\n",
      "63 -3\n",
      "64 -3\n",
      "65 -3\n",
      "66 -3\n",
      "67 -3\n",
      "68 -3\n",
      "69 -3\n",
      "70 -4\n",
      "71 -4\n",
      "72 -4\n",
      "73 -4\n",
      "74 -4\n",
      "75 -4\n",
      "76 -4\n",
      "77 -5\n",
      "78 -5\n",
      "79 -5\n",
      "80 -5\n",
      "81 -5\n",
      "82 -5\n",
      "83 -5\n",
      "84 -5\n",
      "85 -5\n",
      "86 -5\n",
      "87 -6\n",
      "88 -6\n",
      "89 -6\n",
      "90 -6\n",
      "91 -6\n",
      "92 -6\n",
      "93 -6\n",
      "94 -6\n",
      "95 -6\n",
      "96 -6\n",
      "97 -6\n",
      "98 -6\n",
      "99 -6\n",
      "100 -7\n"
     ]
    }
   ],
   "source": [
    "for c, val in enumerate(values):\n",
    "    print(c,val)"
   ]
  },
  {
   "cell_type": "code",
   "execution_count": 2,
   "metadata": {},
   "outputs": [
    {
     "data": {
      "text/plain": [
       "<matplotlib.collections.PathCollection at 0x11ddf9400>"
      ]
     },
     "execution_count": 2,
     "metadata": {},
     "output_type": "execute_result"
    },
    {
     "data": {
      "image/png": "[encoded data removed]",
      "text/plain": [
       "<Figure size 432x288 with 1 Axes>"
      ]
     },
     "metadata": {
      "needs_background": "light"
     },
     "output_type": "display_data"
    }
   ],
   "source": [
    "l = get_l(minor=0, major=2, delta_l=0.01, rev=rev)\n",
    "solutions = newton_solver(gas_h, v_0, l)\n",
    "plot_solutions(l,solutions)"
   ]
  },
  {
   "cell_type": "code",
   "execution_count": 32,
   "metadata": {},
   "outputs": [
    {
     "data": {
      "text/plain": [
       "<matplotlib.collections.PathCollection at 0x101f6ab5f8>"
      ]
     },
     "execution_count": 32,
     "metadata": {},
     "output_type": "execute_result"
    },
    {
     "data": {
      "image/png": "[encoded data removed]",
      "text/plain": [
       "<Figure size 432x288 with 1 Axes>"
      ]
     },
     "metadata": {
      "needs_background": "light"
     },
     "output_type": "display_data"
    }
   ],
   "source": [
    "l = get_l(minor=0, major=2, delta_l=0.02, rev=rev)\n",
    "solutions = newton_raphson_solver(gas_h, gas_h_jacobian, v_0, l,lr=19.5)\n",
    "plot_solutions(l,solutions)"
   ]
  },
  {
   "cell_type": "code",
   "execution_count": null,
   "metadata": {},
   "outputs": [],
   "source": []
  }
 ],
 "metadata": {
  "kernelspec": {
   "display_name": "Python 3",
   "language": "python",
   "name": "python3"
  },
  "language_info": {
   "codemirror_mode": {
    "name": "ipython",
    "version": 3
   },
   "file_extension": ".py",
   "mimetype": "text/x-python",
   "name": "python",
   "nbconvert_exporter": "python",
   "pygments_lexer": "ipython3",
   "version": "3.7.3"
  }
 },
 "nbformat": 4,
 "nbformat_minor": 2
}
